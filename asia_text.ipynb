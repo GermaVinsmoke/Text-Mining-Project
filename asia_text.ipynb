{
 "cells": [
  {
   "cell_type": "code",
   "execution_count": 3,
   "metadata": {},
   "outputs": [],
   "source": [
    "import pandas as pd\n",
    "import seaborn as sns\n",
    "from matplotlib import pyplot as plt\n",
    "import numpy as np\n",
    "import csv\n",
    "import spacy\n",
    "import seaborn as sns\n",
    "%matplotlib inline"
   ]
  },
  {
   "cell_type": "code",
   "execution_count": 4,
   "metadata": {},
   "outputs": [],
   "source": [
    "nlp = spacy.load('en_core_web_md')"
   ]
  },
  {
   "cell_type": "code",
   "execution_count": 7,
   "metadata": {},
   "outputs": [],
   "source": [
    "with open('./txt files/asia_text.txt', 'r') as file:\n",
    "    content = file.read()\n",
    "    nlp.max_length = len(content)\n",
    "    doc = nlp(content)"
   ]
  },
  {
   "cell_type": "code",
   "execution_count": 20,
   "metadata": {},
   "outputs": [],
   "source": [
    "data_list = [[\"text\", \"text_lower\", \"lemma\", \"lemma_lower\",\n",
    "                \"part_of_speech\", \"is_alphabet\", \"is_stopword\"]]\n",
    "for token in doc:\n",
    "    data_list.append([token.text, token.lower_, token.lemma_, token.lemma_.lower(), token.pos_, token.is_alpha, token.is_stop])\n",
    "\n",
    "csv.writer(open(\"./token csv files/asia_token.csv\", \"w\", encoding=\"utf-8\",\n",
    "                newline=\"\")).writerows(data_list)"
   ]
  },
  {
   "cell_type": "code",
   "execution_count": 10,
   "metadata": {},
   "outputs": [],
   "source": [
    "df = pd.read_csv(\"./token csv files/asia_token.csv\")"
   ]
  },
  {
   "cell_type": "code",
   "execution_count": 11,
   "metadata": {},
   "outputs": [],
   "source": [
    "words = df[(df[\"is_alphabet\"] == True) & (df[\"is_stopword\"] == False) & (\n",
    "    df[\"lemma_lower\"].str.len() > 1)][\"lemma_lower\"].value_counts()[:20]"
   ]
  },
  {
   "cell_type": "code",
   "execution_count": 12,
   "metadata": {},
   "outputs": [
    {
     "data": {
      "image/png": "[encoded data removed]",
      "text/plain": [
       "<Figure size 432x288 with 1 Axes>"
      ]
     },
     "metadata": {
      "needs_background": "light"
     },
     "output_type": "display_data"
    }
   ],
   "source": [
    "sns.barplot(x=words.values, y=words.index, palette=\"Blues_d\", linewidth=0)\n",
    "plt.xlabel(\"Ocurrences Count\")\n",
    "plt.title(\"Most Frequent Words\")\n",
    "plt.show()"
   ]
  },
  {
   "cell_type": "code",
   "execution_count": 14,
   "metadata": {},
   "outputs": [],
   "source": [
    "positive_words = []\n",
    "negative_words = []\n",
    "with open(\"positive-words.txt\", \"r\") as temp_file:\n",
    "    positive_words = temp_file.read().splitlines()\n",
    "    \n",
    "\n",
    "with open(\"negative-words.txt\", \"r\", encoding = \"ISO-8859-1\") as temp_file:\n",
    "    negative_words = temp_file.read().splitlines()\n"
   ]
  },
  {
   "cell_type": "code",
   "execution_count": 16,
   "metadata": {},
   "outputs": [],
   "source": [
    "data_list = [[\"text\", \"score\"]]\n",
    "\n",
    "for sent in doc.sents:\n",
    "\n",
    "    if len(sent.text) > 10:\n",
    "\n",
    "        score = 0\n",
    "\n",
    "        for word in sent:\n",
    "\n",
    "            if word.lower_ in positive_words:\n",
    "                score += 1\n",
    "\n",
    "            if word.lower_ in negative_words:\n",
    "                score -= 1\n",
    "\n",
    "        data_list.append([sent.text, score])\n",
    "\n",
    "csv.writer(open(\"./sentences csv files/asia_sentences.csv\", \"w\", encoding=\"utf-8\",\n",
    "                newline=\"\")).writerows(data_list)"
   ]
  },
  {
   "cell_type": "code",
   "execution_count": 18,
   "metadata": {},
   "outputs": [],
   "source": [
    "df = pd.read_csv(\"./sentences csv files/asia_sentences.csv\")"
   ]
  },
  {
   "cell_type": "code",
   "execution_count": 19,
   "metadata": {},
   "outputs": [
    {
     "data": {
      "image/png": "[encoded data removed]",
      "text/plain": [
       "<Figure size 432x288 with 1 Axes>"
      ]
     },
     "metadata": {
      "needs_background": "light"
     },
     "output_type": "display_data"
    }
   ],
   "source": [
    "plt.bar(df.index, df[\"score\"], linewidth=0)\n",
    "plt.xlabel(\"Sentence Number\")\n",
    "plt.ylabel(\"Score\")\n",
    "plt.title(\"Sentiment Analysis\")\n",
    "plt.show()"
   ]
  },
  {
   "cell_type": "code",
   "execution_count": null,
   "metadata": {},
   "outputs": [],
   "source": []
  }
 ],
 "metadata": {
  "kernelspec": {
   "display_name": "Python 3",
   "language": "python",
   "name": "python3"
  },
  "language_info": {
   "codemirror_mode": {
    "name": "ipython",
    "version": 3
   },
   "file_extension": ".py",
   "mimetype": "text/x-python",
   "name": "python",
   "nbconvert_exporter": "python",
   "pygments_lexer": "ipython3",
   "version": "3.6.8"
  }
 },
 "nbformat": 4,
 "nbformat_minor": 4
}
