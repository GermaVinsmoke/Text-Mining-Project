{
 "cells": [
  {
   "cell_type": "code",
   "execution_count": 7,
   "metadata": {},
   "outputs": [],
   "source": [
    "from PyPDF2 import PdfFileReader"
   ]
  },
  {
   "cell_type": "code",
   "execution_count": 8,
   "metadata": {},
   "outputs": [],
   "source": [
    "reader = PdfFileReader('HDR_desk_review_en.pdf')"
   ]
  },
  {
   "cell_type": "code",
   "execution_count": 9,
   "metadata": {},
   "outputs": [],
   "source": [
    "asia_pacific_text = ''\n",
    "asia_first = reader.getPage(4).extractText().split('5 International Work')[0]\n",
    "asia_second = reader.getPage(5).extractText().split('7 Ibid')[0]\n",
    "asia_third = reader.getPage(6).extractText().split('9 Ibid')[0]\n",
    "\n",
    "asia_pacific_text = asia_first + asia_second + asia_third\n",
    "asia_pacific_text = asia_pacific_text.replace('\\n', '')\n",
    "\n",
    "with open(\"./txt files/asia_text.txt\", \"w\", encoding=\"utf-8\") as temp_file:\n",
    "    temp_file.write(asia_pacific_text)\n",
    "\n",
    "cambodia_text = ''\n",
    "cambodia_first = reader.getPage(7).extractText().split('11 International Work')[0].strip()[30:]\n",
    "cambodia_second = reader.getPage(8).extractText().split('13 Ibid')[0]\n",
    "cambodia_third = reader.getPage(9).extractText().split('15  Ibid')[0]\n",
    "\n",
    "cambodia_text = cambodia_first + cambodia_second + cambodia_third\n",
    "cambodia_text = cambodia_text.replace('\\n', '')\n",
    "\n",
    "with open(\"./txt files/cambodia_text.txt\", \"w\", encoding=\"utf-8\") as temp_file:\n",
    "    temp_file.write(cambodia_text)\n",
    "\n",
    "ghana_text = ''\n",
    "ghana_first = reader.getPage(10).extractText().split('17 UNDP Human')[0].strip()[20:]\n",
    "ghana_second = reader.getPage(11).extractText()\n",
    "ghana_third = reader.getPage(12).extractText().split('20 UNDP Human')[0]\n",
    "ghana_fourth = reader.getPage(13).extractText()\n",
    "\n",
    "ghana_text = ghana_first + ghana_second + ghana_third + ghana_fourth\n",
    "ghana_text = ghana_text.replace('\\n', '')\n",
    "\n",
    "with open(\"./txt files/ghana_text.txt\", \"w\", encoding=\"utf-8\") as temp_file:\n",
    "    temp_file.write(ghana_text)\n",
    "\n",
    "kenya_text = ''\n",
    "kenya_first = reader.getPage(14).extractText().split('21 Report of')[0].strip()[34:]\n",
    "kenya_second = reader.getPage(15).extractText()\n",
    "kenya_third = reader.getPage(16).extractText()\n",
    "\n",
    "kenya_text = kenya_first + kenya_second + kenya_third\n",
    "kenya_text = kenya_text.replace('\\n', '')\n",
    "\n",
    "with open(\"./txt files/kenya_text.txt\", \"w\", encoding=\"utf-8\") as temp_file:\n",
    "    temp_file.write(kenya_text)\n",
    "\n",
    "nigeria_text = ''\n",
    "nigeria_first = reader.getPage(17).extractText().split('25 African Commission')[0].strip()[32:]\n",
    "nigeria_second = reader.getPage(18).extractText()\n",
    "nigeria_third = reader.getPage(19).extractText().split('UNDP Humn')[0]\n",
    "nigeria_fourth = reader.getPage(20).extractText().split('32 Ibid')[0]\n",
    "\n",
    "nigeria_text = nigeria_first + nigeria_second + nigeria_third + nigeria_fourth\n",
    "nigeria_text = nigeria_text.replace('\\n', '')\n",
    "\n",
    "with open(\"./txt files/nigeria_text.txt\", \"w\", encoding=\"utf-8\") as temp_file:\n",
    "    temp_file.write(nigeria_text)\n",
    "\n",
    "russia_text = ''\n",
    "russia_first = reader.getPage(21).extractText().split('33 International Work')[0].strip()[32:]\n",
    "russia_second = reader.getPage(22).extractText().split('37 Ibid')[0]\n",
    "russia_third = reader.getPage(23).extractText().split('39 Ibid')[0]\n",
    "russia_fourth = reader.getPage(24).extractText()\n",
    "\n",
    "russia_text = russia_first + russia_second + russia_third + russia_fourth\n",
    "russia_text = russia_text.replace('\\n', '')\n",
    "\n",
    "with open(\"./txt files/russia_text.txt\", \"w\", encoding=\"utf-8\") as temp_file:\n",
    "    temp_file.write(russia_text)\n"
   ]
  },
  {
   "cell_type": "code",
   "execution_count": null,
   "metadata": {},
   "outputs": [],
   "source": []
  }
 ],
 "metadata": {
  "kernelspec": {
   "display_name": "Python 3",
   "language": "python",
   "name": "python3"
  },
  "language_info": {
   "codemirror_mode": {
    "name": "ipython",
    "version": 3
   },
   "file_extension": ".py",
   "mimetype": "text/x-python",
   "name": "python",
   "nbconvert_exporter": "python",
   "pygments_lexer": "ipython3",
   "version": "3.6.8"
  }
 },
 "nbformat": 4,
 "nbformat_minor": 4
}
