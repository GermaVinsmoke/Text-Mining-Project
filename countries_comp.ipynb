{
 "cells": [
  {
   "cell_type": "code",
   "execution_count": 3,
   "metadata": {},
   "outputs": [],
   "source": [
    "import pandas as pd\n",
    "import seaborn as sns\n",
    "from matplotlib import pyplot as plt\n",
    "import csv\n",
    "import seaborn as sns\n",
    "%matplotlib inline"
   ]
  },
  {
   "cell_type": "code",
   "execution_count": 4,
   "metadata": {},
   "outputs": [],
   "source": [
    "asia_df = pd.read_csv(\"./sentences csv files/asia_sentences.csv\")\n",
    "cambodia_df = pd.read_csv(\"./sentences csv files/cambodia_sentences.csv\")\n",
    "ghana_df = pd.read_csv(\"./sentences csv files/ghana_sentences.csv\")\n",
    "kenya_df = pd.read_csv(\"./sentences csv files/kenya_sentences.csv\")\n",
    "nigeria_df = pd.read_csv(\"./sentences csv files/nigeria_sentences.csv\")\n",
    "russia_df = pd.read_csv(\"./sentences csv files/russia_sentences.csv\")"
   ]
  },
  {
   "cell_type": "code",
   "execution_count": 8,
   "metadata": {},
   "outputs": [
    {
     "data": {
      "text/plain": [
       "[['Asia Pacific', -56],\n",
       " ['Cambodia', -17],\n",
       " ['Ghana', -42],\n",
       " ['Kenya', -27],\n",
       " ['Nigeria', -36],\n",
       " ['Russia', -17]]"
      ]
     },
     "execution_count": 8,
     "metadata": {},
     "output_type": "execute_result"
    }
   ],
   "source": [
    "comp_data = []\n",
    "comp_data.append(['Asia Pacific',asia_df.score.sum()])\n",
    "comp_data.append(['Cambodia',cambodia_df.score.sum()])\n",
    "comp_data.append(['Ghana',ghana_df.score.sum()])\n",
    "comp_data.append(['Kenya',kenya_df.score.sum()])\n",
    "comp_data.append(['Nigeria',nigeria_df.score.sum()])\n",
    "comp_data.append(['Russia',russia_df.score.sum()])\n",
    "comp_data"
   ]
  },
  {
   "cell_type": "code",
   "execution_count": 9,
   "metadata": {},
   "outputs": [],
   "source": [
    "df = pd.DataFrame(comp_data, columns = ['Country', 'Score']) "
   ]
  },
  {
   "cell_type": "code",
   "execution_count": 22,
   "metadata": {},
   "outputs": [
    {
     "data": {
      "image/png": "[encoded data removed]",
      "text/plain": [
       "<Figure size 432x288 with 1 Axes>"
      ]
     },
     "metadata": {
      "needs_background": "light"
     },
     "output_type": "display_data"
    }
   ],
   "source": [
    "plt.barh(df[\"Country\"], df[\"Score\"], linewidth=0)\n",
    "plt.ylabel(\"Country\")\n",
    "plt.xlabel(\"Score\")\n",
    "plt.title(\"Sentiment Analysis Comparison\")\n",
    "plt.show()"
   ]
  },
  {
   "cell_type": "code",
   "execution_count": 15,
   "metadata": {},
   "outputs": [
    {
     "data": {
      "text/html": [
       "<div>\n",
       "<style scoped>\n",
       "    .dataframe tbody tr th:only-of-type {\n",
       "        vertical-align: middle;\n",
       "    }\n",
       "\n",
       "    .dataframe tbody tr th {\n",
       "        vertical-align: top;\n",
       "    }\n",
       "\n",
       "    .dataframe thead th {\n",
       "        text-align: right;\n",
       "    }\n",
       "</style>\n",
       "<table border=\"1\" class=\"dataframe\">\n",
       "  <thead>\n",
       "    <tr style=\"text-align: right;\">\n",
       "      <th></th>\n",
       "      <th>Country</th>\n",
       "      <th>Score</th>\n",
       "    </tr>\n",
       "  </thead>\n",
       "  <tbody>\n",
       "    <tr>\n",
       "      <th>0</th>\n",
       "      <td>Asia Pacific</td>\n",
       "      <td>-56</td>\n",
       "    </tr>\n",
       "    <tr>\n",
       "      <th>1</th>\n",
       "      <td>Cambodia</td>\n",
       "      <td>-17</td>\n",
       "    </tr>\n",
       "    <tr>\n",
       "      <th>2</th>\n",
       "      <td>Ghana</td>\n",
       "      <td>-42</td>\n",
       "    </tr>\n",
       "    <tr>\n",
       "      <th>3</th>\n",
       "      <td>Kenya</td>\n",
       "      <td>-27</td>\n",
       "    </tr>\n",
       "    <tr>\n",
       "      <th>4</th>\n",
       "      <td>Nigeria</td>\n",
       "      <td>-36</td>\n",
       "    </tr>\n",
       "    <tr>\n",
       "      <th>5</th>\n",
       "      <td>Russia</td>\n",
       "      <td>-17</td>\n",
       "    </tr>\n",
       "  </tbody>\n",
       "</table>\n",
       "</div>"
      ],
      "text/plain": [
       "        Country  Score\n",
       "0  Asia Pacific    -56\n",
       "1      Cambodia    -17\n",
       "2         Ghana    -42\n",
       "3         Kenya    -27\n",
       "4       Nigeria    -36\n",
       "5        Russia    -17"
      ]
     },
     "execution_count": 15,
     "metadata": {},
     "output_type": "execute_result"
    }
   ],
   "source": [
    "df"
   ]
  }
 ],
 "metadata": {
  "kernelspec": {
   "display_name": "Python 3",
   "language": "python",
   "name": "python3"
  },
  "language_info": {
   "codemirror_mode": {
    "name": "ipython",
    "version": 3
   },
   "file_extension": ".py",
   "mimetype": "text/x-python",
   "name": "python",
   "nbconvert_exporter": "python",
   "pygments_lexer": "ipython3",
   "version": "3.6.8"
  }
 },
 "nbformat": 4,
 "nbformat_minor": 4
}
